{
 "cells": [
  {
   "cell_type": "code",
   "execution_count": 1,
   "metadata": {},
   "outputs": [],
   "source": [
    "import numpy as np\n",
    "import pandas as pd\n",
    "from sklearn import metrics\n",
    "import matplotlib.pyplot as plt\n",
    "%matplotlib inline\n",
    "from sklearn import preprocessing\n",
    "import seaborn as sns\n",
    "\n",
    "\n",
    "# Using Tensorflow Keras instead of the original Keras\n",
    "import tensorflow as tf\n",
    "from tensorflow.keras import Sequential\n",
    "from tensorflow.keras.layers import Dense"
   ]
  },
  {
   "cell_type": "code",
   "execution_count": 2,
   "metadata": {},
   "outputs": [],
   "source": [
    "bankdata=pd.read_csv('bank.csv')"
   ]
  },
  {
   "cell_type": "code",
   "execution_count": 3,
   "metadata": {},
   "outputs": [
    {
     "name": "stdout",
     "output_type": "stream",
     "text": [
      "<class 'pandas.core.frame.DataFrame'>\n",
      "RangeIndex: 10000 entries, 0 to 9999\n",
      "Data columns (total 14 columns):\n",
      "RowNumber          10000 non-null int64\n",
      "CustomerId         10000 non-null int64\n",
      "Surname            10000 non-null object\n",
      "CreditScore        10000 non-null int64\n",
      "Geography          10000 non-null object\n",
      "Gender             10000 non-null object\n",
      "Age                10000 non-null int64\n",
      "Tenure             10000 non-null int64\n",
      "Balance            10000 non-null float64\n",
      "NumOfProducts      10000 non-null int64\n",
      "HasCrCard          10000 non-null int64\n",
      "IsActiveMember     10000 non-null int64\n",
      "EstimatedSalary    10000 non-null float64\n",
      "Exited             10000 non-null int64\n",
      "dtypes: float64(2), int64(9), object(3)\n",
      "memory usage: 1.1+ MB\n"
     ]
    }
   ],
   "source": [
    "bankdata.info()"
   ]
  },
  {
   "cell_type": "code",
   "execution_count": 4,
   "metadata": {},
   "outputs": [
    {
     "data": {
      "text/html": [
       "<div>\n",
       "<style scoped>\n",
       "    .dataframe tbody tr th:only-of-type {\n",
       "        vertical-align: middle;\n",
       "    }\n",
       "\n",
       "    .dataframe tbody tr th {\n",
       "        vertical-align: top;\n",
       "    }\n",
       "\n",
       "    .dataframe thead th {\n",
       "        text-align: right;\n",
       "    }\n",
       "</style>\n",
       "<table border=\"1\" class=\"dataframe\">\n",
       "  <thead>\n",
       "    <tr style=\"text-align: right;\">\n",
       "      <th></th>\n",
       "      <th>RowNumber</th>\n",
       "      <th>CustomerId</th>\n",
       "      <th>Surname</th>\n",
       "      <th>CreditScore</th>\n",
       "      <th>Geography</th>\n",
       "      <th>Gender</th>\n",
       "      <th>Age</th>\n",
       "      <th>Tenure</th>\n",
       "      <th>Balance</th>\n",
       "      <th>NumOfProducts</th>\n",
       "      <th>HasCrCard</th>\n",
       "      <th>IsActiveMember</th>\n",
       "      <th>EstimatedSalary</th>\n",
       "      <th>Exited</th>\n",
       "    </tr>\n",
       "  </thead>\n",
       "  <tbody>\n",
       "    <tr>\n",
       "      <td>0</td>\n",
       "      <td>1</td>\n",
       "      <td>15634602</td>\n",
       "      <td>Hargrave</td>\n",
       "      <td>619</td>\n",
       "      <td>France</td>\n",
       "      <td>Female</td>\n",
       "      <td>42</td>\n",
       "      <td>2</td>\n",
       "      <td>0.00</td>\n",
       "      <td>1</td>\n",
       "      <td>1</td>\n",
       "      <td>1</td>\n",
       "      <td>101348.88</td>\n",
       "      <td>1</td>\n",
       "    </tr>\n",
       "    <tr>\n",
       "      <td>1</td>\n",
       "      <td>2</td>\n",
       "      <td>15647311</td>\n",
       "      <td>Hill</td>\n",
       "      <td>608</td>\n",
       "      <td>Spain</td>\n",
       "      <td>Female</td>\n",
       "      <td>41</td>\n",
       "      <td>1</td>\n",
       "      <td>83807.86</td>\n",
       "      <td>1</td>\n",
       "      <td>0</td>\n",
       "      <td>1</td>\n",
       "      <td>112542.58</td>\n",
       "      <td>0</td>\n",
       "    </tr>\n",
       "    <tr>\n",
       "      <td>2</td>\n",
       "      <td>3</td>\n",
       "      <td>15619304</td>\n",
       "      <td>Onio</td>\n",
       "      <td>502</td>\n",
       "      <td>France</td>\n",
       "      <td>Female</td>\n",
       "      <td>42</td>\n",
       "      <td>8</td>\n",
       "      <td>159660.80</td>\n",
       "      <td>3</td>\n",
       "      <td>1</td>\n",
       "      <td>0</td>\n",
       "      <td>113931.57</td>\n",
       "      <td>1</td>\n",
       "    </tr>\n",
       "    <tr>\n",
       "      <td>3</td>\n",
       "      <td>4</td>\n",
       "      <td>15701354</td>\n",
       "      <td>Boni</td>\n",
       "      <td>699</td>\n",
       "      <td>France</td>\n",
       "      <td>Female</td>\n",
       "      <td>39</td>\n",
       "      <td>1</td>\n",
       "      <td>0.00</td>\n",
       "      <td>2</td>\n",
       "      <td>0</td>\n",
       "      <td>0</td>\n",
       "      <td>93826.63</td>\n",
       "      <td>0</td>\n",
       "    </tr>\n",
       "    <tr>\n",
       "      <td>4</td>\n",
       "      <td>5</td>\n",
       "      <td>15737888</td>\n",
       "      <td>Mitchell</td>\n",
       "      <td>850</td>\n",
       "      <td>Spain</td>\n",
       "      <td>Female</td>\n",
       "      <td>43</td>\n",
       "      <td>2</td>\n",
       "      <td>125510.82</td>\n",
       "      <td>1</td>\n",
       "      <td>1</td>\n",
       "      <td>1</td>\n",
       "      <td>79084.10</td>\n",
       "      <td>0</td>\n",
       "    </tr>\n",
       "  </tbody>\n",
       "</table>\n",
       "</div>"
      ],
      "text/plain": [
       "   RowNumber  CustomerId   Surname  CreditScore Geography  Gender  Age  \\\n",
       "0          1    15634602  Hargrave          619    France  Female   42   \n",
       "1          2    15647311      Hill          608     Spain  Female   41   \n",
       "2          3    15619304      Onio          502    France  Female   42   \n",
       "3          4    15701354      Boni          699    France  Female   39   \n",
       "4          5    15737888  Mitchell          850     Spain  Female   43   \n",
       "\n",
       "   Tenure    Balance  NumOfProducts  HasCrCard  IsActiveMember  \\\n",
       "0       2       0.00              1          1               1   \n",
       "1       1   83807.86              1          0               1   \n",
       "2       8  159660.80              3          1               0   \n",
       "3       1       0.00              2          0               0   \n",
       "4       2  125510.82              1          1               1   \n",
       "\n",
       "   EstimatedSalary  Exited  \n",
       "0        101348.88       1  \n",
       "1        112542.58       0  \n",
       "2        113931.57       1  \n",
       "3         93826.63       0  \n",
       "4         79084.10       0  "
      ]
     },
     "execution_count": 4,
     "metadata": {},
     "output_type": "execute_result"
    }
   ],
   "source": [
    "# read the head of the data\n",
    "bankdata.head()"
   ]
  },
  {
   "cell_type": "markdown",
   "metadata": {},
   "source": [
    "# Drop the columns which are unique for all users like IDs"
   ]
  },
  {
   "cell_type": "code",
   "execution_count": 5,
   "metadata": {},
   "outputs": [],
   "source": [
    "# Drop the columns which are unique for all users like IDs\n",
    "\n",
    "bankdata.drop(['RowNumber','Surname','CustomerId'],axis=1,inplace=True)"
   ]
  },
  {
   "cell_type": "markdown",
   "metadata": {},
   "source": [
    "# Seperating the data into features and and target col(s)"
   ]
  },
  {
   "cell_type": "code",
   "execution_count": 6,
   "metadata": {},
   "outputs": [],
   "source": [
    "\n",
    "#seperating the data into features and and target col(s)\n",
    "X=bankdata.iloc[:, 0:10]\n",
    "Y=bankdata.iloc[:, 10:]\n",
    "bankdata_copy=bankdata.copy()\n",
    "bankdata_copy=pd.get_dummies(bankdata_copy)"
   ]
  },
  {
   "cell_type": "code",
   "execution_count": 7,
   "metadata": {},
   "outputs": [
    {
     "data": {
      "text/html": [
       "<div>\n",
       "<style scoped>\n",
       "    .dataframe tbody tr th:only-of-type {\n",
       "        vertical-align: middle;\n",
       "    }\n",
       "\n",
       "    .dataframe tbody tr th {\n",
       "        vertical-align: top;\n",
       "    }\n",
       "\n",
       "    .dataframe thead th {\n",
       "        text-align: right;\n",
       "    }\n",
       "</style>\n",
       "<table border=\"1\" class=\"dataframe\">\n",
       "  <thead>\n",
       "    <tr style=\"text-align: right;\">\n",
       "      <th></th>\n",
       "      <th>CreditScore</th>\n",
       "      <th>Age</th>\n",
       "      <th>Tenure</th>\n",
       "      <th>Balance</th>\n",
       "      <th>NumOfProducts</th>\n",
       "      <th>HasCrCard</th>\n",
       "      <th>IsActiveMember</th>\n",
       "      <th>EstimatedSalary</th>\n",
       "      <th>Geography_France</th>\n",
       "      <th>Geography_Germany</th>\n",
       "      <th>Geography_Spain</th>\n",
       "      <th>Gender_Female</th>\n",
       "      <th>Gender_Male</th>\n",
       "    </tr>\n",
       "  </thead>\n",
       "  <tbody>\n",
       "    <tr>\n",
       "      <td>0</td>\n",
       "      <td>619</td>\n",
       "      <td>42</td>\n",
       "      <td>2</td>\n",
       "      <td>0.00</td>\n",
       "      <td>1</td>\n",
       "      <td>1</td>\n",
       "      <td>1</td>\n",
       "      <td>101348.88</td>\n",
       "      <td>1</td>\n",
       "      <td>0</td>\n",
       "      <td>0</td>\n",
       "      <td>1</td>\n",
       "      <td>0</td>\n",
       "    </tr>\n",
       "    <tr>\n",
       "      <td>1</td>\n",
       "      <td>608</td>\n",
       "      <td>41</td>\n",
       "      <td>1</td>\n",
       "      <td>83807.86</td>\n",
       "      <td>1</td>\n",
       "      <td>0</td>\n",
       "      <td>1</td>\n",
       "      <td>112542.58</td>\n",
       "      <td>0</td>\n",
       "      <td>0</td>\n",
       "      <td>1</td>\n",
       "      <td>1</td>\n",
       "      <td>0</td>\n",
       "    </tr>\n",
       "    <tr>\n",
       "      <td>2</td>\n",
       "      <td>502</td>\n",
       "      <td>42</td>\n",
       "      <td>8</td>\n",
       "      <td>159660.80</td>\n",
       "      <td>3</td>\n",
       "      <td>1</td>\n",
       "      <td>0</td>\n",
       "      <td>113931.57</td>\n",
       "      <td>1</td>\n",
       "      <td>0</td>\n",
       "      <td>0</td>\n",
       "      <td>1</td>\n",
       "      <td>0</td>\n",
       "    </tr>\n",
       "    <tr>\n",
       "      <td>3</td>\n",
       "      <td>699</td>\n",
       "      <td>39</td>\n",
       "      <td>1</td>\n",
       "      <td>0.00</td>\n",
       "      <td>2</td>\n",
       "      <td>0</td>\n",
       "      <td>0</td>\n",
       "      <td>93826.63</td>\n",
       "      <td>1</td>\n",
       "      <td>0</td>\n",
       "      <td>0</td>\n",
       "      <td>1</td>\n",
       "      <td>0</td>\n",
       "    </tr>\n",
       "    <tr>\n",
       "      <td>4</td>\n",
       "      <td>850</td>\n",
       "      <td>43</td>\n",
       "      <td>2</td>\n",
       "      <td>125510.82</td>\n",
       "      <td>1</td>\n",
       "      <td>1</td>\n",
       "      <td>1</td>\n",
       "      <td>79084.10</td>\n",
       "      <td>0</td>\n",
       "      <td>0</td>\n",
       "      <td>1</td>\n",
       "      <td>1</td>\n",
       "      <td>0</td>\n",
       "    </tr>\n",
       "  </tbody>\n",
       "</table>\n",
       "</div>"
      ],
      "text/plain": [
       "   CreditScore  Age  Tenure    Balance  NumOfProducts  HasCrCard  \\\n",
       "0          619   42       2       0.00              1          1   \n",
       "1          608   41       1   83807.86              1          0   \n",
       "2          502   42       8  159660.80              3          1   \n",
       "3          699   39       1       0.00              2          0   \n",
       "4          850   43       2  125510.82              1          1   \n",
       "\n",
       "   IsActiveMember  EstimatedSalary  Geography_France  Geography_Germany  \\\n",
       "0               1        101348.88                 1                  0   \n",
       "1               1        112542.58                 0                  0   \n",
       "2               0        113931.57                 1                  0   \n",
       "3               0         93826.63                 1                  0   \n",
       "4               1         79084.10                 0                  0   \n",
       "\n",
       "   Geography_Spain  Gender_Female  Gender_Male  \n",
       "0                0              1            0  \n",
       "1                1              1            0  \n",
       "2                0              1            0  \n",
       "3                0              1            0  \n",
       "4                1              1            0  "
      ]
     },
     "execution_count": 7,
     "metadata": {},
     "output_type": "execute_result"
    }
   ],
   "source": [
    "# Encoding the Geography and Gender columns\n",
    "X=pd.get_dummies(X)\n",
    "X.head()"
   ]
  },
  {
   "cell_type": "code",
   "execution_count": 8,
   "metadata": {},
   "outputs": [],
   "source": [
    "#divide the data into train and test splits\n",
    "\n",
    "from sklearn.model_selection import train_test_split\n",
    "X_train, X_test, y_train, y_test = train_test_split(X, Y, test_size=0.20, random_state=1)"
   ]
  },
  {
   "cell_type": "markdown",
   "metadata": {},
   "source": [
    "# Normalizing the training and test sets"
   ]
  },
  {
   "cell_type": "code",
   "execution_count": 9,
   "metadata": {},
   "outputs": [],
   "source": [
    "#Normalizing the training and test sets\n",
    "X_train= preprocessing.normalize(X_train)\n",
    "X_test= preprocessing.normalize(X_test)"
   ]
  },
  {
   "cell_type": "markdown",
   "metadata": {},
   "source": [
    "## CONVERTING DATA SETS TO TENSORS"
   ]
  },
  {
   "cell_type": "code",
   "execution_count": 10,
   "metadata": {},
   "outputs": [],
   "source": [
    "#converting the data sets to tensors\n",
    "\n",
    "X_train=tf.convert_to_tensor(X_train)\n",
    "y_train=tf.convert_to_tensor(y_train.values)\n",
    "X_test=tf.convert_to_tensor(X_test)\n",
    "y_test=tf.convert_to_tensor(y_test.values)"
   ]
  },
  {
   "cell_type": "code",
   "execution_count": 134,
   "metadata": {},
   "outputs": [],
   "source": [
    "#model building- lets initialize our model\n",
    "\n",
    "model = Sequential()\n",
    "\n",
    "# Define model architecture\n",
    "# Using 2 hidden layers gives unrealiable outputs\n",
    "#model.add(Dense(2,input_dim=13,activation='relu'))\n",
    "\n",
    "# Using 3 hidden layers gives unrealiable outputs\n",
    "#model.add(Dense(2,input_dim=13,activation='relu'))\n",
    "\n",
    "# Using 4 hidden gives unrealiable outputs\n",
    "#model.add(Dense(4,input_dim=13,activation='relu'))\n",
    "\n",
    "\n",
    "\n",
    "# When the number of hidden layers is increased to 5, the output seems to be consistent\n",
    "model.add(Dense(10000,input_dim=13,activation='relu'))\n",
    "model.add(Dense(100,input_dim=13, activation='tanh'))\n",
    "model.add(Dense(2,activation='softmax'))"
   ]
  },
  {
   "cell_type": "code",
   "execution_count": 135,
   "metadata": {},
   "outputs": [],
   "source": [
    "model.compile(loss='categorical_crossentropy',optimizer='adam',metrics=['accuracy'])"
   ]
  },
  {
   "cell_type": "code",
   "execution_count": 136,
   "metadata": {},
   "outputs": [
    {
     "name": "stdout",
     "output_type": "stream",
     "text": [
      "Train on 8000 samples\n",
      "Epoch 1/40\n",
      "8000/8000 [==============================] - 7s 921us/sample - loss: 0.2814 - accuracy: 0.9379\n",
      "Epoch 2/40\n",
      "8000/8000 [==============================] - 3s 358us/sample - loss: 0.2819 - accuracy: 1.0000\n",
      "Epoch 3/40\n",
      "8000/8000 [==============================] - 3s 339us/sample - loss: 0.2816 - accuracy: 1.0000 - los\n",
      "Epoch 4/40\n",
      "8000/8000 [==============================] - 3s 341us/sample - loss: 0.2816 - accuracy: 1.0000\n",
      "Epoch 5/40\n",
      "8000/8000 [==============================] - 3s 341us/sample - loss: 0.2816 - accuracy: 1.0000\n",
      "Epoch 6/40\n",
      "8000/8000 [==============================] - 3s 360us/sample - loss: 0.2816 - accuracy: 1.0000\n",
      "Epoch 7/40\n",
      "8000/8000 [==============================] - 3s 361us/sample - loss: 0.2816 - accuracy: 1.0000\n",
      "Epoch 8/40\n",
      "8000/8000 [==============================] - 3s 353us/sample - loss: 0.2816 - accuracy: 1.0000\n",
      "Epoch 9/40\n",
      "8000/8000 [==============================] - 3s 344us/sample - loss: 0.2816 - accuracy: 1.0000\n",
      "Epoch 10/40\n",
      "8000/8000 [==============================] - 3s 322us/sample - loss: 0.2816 - accuracy: 1.0000\n",
      "Epoch 11/40\n",
      "8000/8000 [==============================] - 2s 308us/sample - loss: 0.2816 - accuracy: 1.0000\n",
      "Epoch 12/40\n",
      "8000/8000 [==============================] - 2s 305us/sample - loss: 0.2816 - accuracy: 1.0000\n",
      "Epoch 13/40\n",
      "8000/8000 [==============================] - 3s 332us/sample - loss: 0.2816 - accuracy: 1.0000\n",
      "Epoch 14/40\n",
      "8000/8000 [==============================] - 2s 301us/sample - loss: 0.2816 - accuracy: 1.0000\n",
      "Epoch 15/40\n",
      "8000/8000 [==============================] - 2s 296us/sample - loss: 0.2816 - accuracy: 1.0000\n",
      "Epoch 16/40\n",
      "8000/8000 [==============================] - 3s 327us/sample - loss: 0.2816 - accuracy: 1.0000\n",
      "Epoch 17/40\n",
      "8000/8000 [==============================] - 3s 316us/sample - loss: 0.2816 - accuracy: 1.0000\n",
      "Epoch 18/40\n",
      "8000/8000 [==============================] - 3s 319us/sample - loss: 0.2816 - accuracy: 1.0000\n",
      "Epoch 19/40\n",
      "8000/8000 [==============================] - 3s 320us/sample - loss: 0.2816 - accuracy: 1.0000\n",
      "Epoch 20/40\n",
      "8000/8000 [==============================] - 3s 319us/sample - loss: 0.2816 - accuracy: 1.0000\n",
      "Epoch 21/40\n",
      "8000/8000 [==============================] - 3s 327us/sample - loss: 0.2816 - accuracy: 1.0000\n",
      "Epoch 22/40\n",
      "8000/8000 [==============================] - 3s 317us/sample - loss: 0.2816 - accuracy: 1.0000\n",
      "Epoch 23/40\n",
      "8000/8000 [==============================] - 3s 383us/sample - loss: 0.2816 - accuracy: 1.0000\n",
      "Epoch 24/40\n",
      "8000/8000 [==============================] - 3s 380us/sample - loss: 0.2816 - accuracy: 1.0000\n",
      "Epoch 25/40\n",
      "8000/8000 [==============================] - 3s 373us/sample - loss: 0.2816 - accuracy: 1.0000\n",
      "Epoch 26/40\n",
      "8000/8000 [==============================] - 3s 354us/sample - loss: 0.2816 - accuracy: 1.0000\n",
      "Epoch 27/40\n",
      "8000/8000 [==============================] - 2s 309us/sample - loss: 0.2816 - accuracy: 1.0000\n",
      "Epoch 28/40\n",
      "8000/8000 [==============================] - 3s 315us/sample - loss: 0.2816 - accuracy: 1.0000\n",
      "Epoch 29/40\n",
      "8000/8000 [==============================] - 3s 313us/sample - loss: 0.2816 - accuracy: 1.0000\n",
      "Epoch 30/40\n",
      "8000/8000 [==============================] - 3s 318us/sample - loss: 0.2816 - accuracy: 1.0000\n",
      "Epoch 31/40\n",
      "8000/8000 [==============================] - 2s 308us/sample - loss: 0.2816 - accuracy: 1.0000\n",
      "Epoch 32/40\n",
      "8000/8000 [==============================] - 2s 311us/sample - loss: 0.2816 - accuracy: 1.0000\n",
      "Epoch 33/40\n",
      "8000/8000 [==============================] - 2s 312us/sample - loss: 0.2816 - accuracy: 1.0000\n",
      "Epoch 34/40\n",
      "8000/8000 [==============================] - 2s 310us/sample - loss: 0.2816 - accuracy: 1.0000\n",
      "Epoch 35/40\n",
      "8000/8000 [==============================] - 3s 327us/sample - loss: 0.2816 - accuracy: 1.0000\n",
      "Epoch 36/40\n",
      "8000/8000 [==============================] - 2s 308us/sample - loss: 0.2816 - accuracy: 1.0000\n",
      "Epoch 37/40\n",
      "8000/8000 [==============================] - 3s 320us/sample - loss: 0.2816 - accuracy: 1.0000\n",
      "Epoch 38/40\n",
      "8000/8000 [==============================] - 2s 303us/sample - loss: 0.2816 - accuracy: 1.0000\n",
      "Epoch 39/40\n",
      "8000/8000 [==============================] - 2s 310us/sample - loss: 0.2816 - accuracy: 1.0000\n",
      "Epoch 40/40\n",
      "8000/8000 [==============================] - 3s 321us/sample - loss: 0.2816 - accuracy: 1.0000\n"
     ]
    },
    {
     "data": {
      "text/plain": [
       "<tensorflow.python.keras.callbacks.History at 0x37967b4208>"
      ]
     },
     "execution_count": 136,
     "metadata": {},
     "output_type": "execute_result"
    }
   ],
   "source": [
    "model.fit(X_train, y_train, epochs=40, batch_size=256, verbose=1) "
   ]
  },
  {
   "cell_type": "code",
   "execution_count": 137,
   "metadata": {},
   "outputs": [
    {
     "name": "stdout",
     "output_type": "stream",
     "text": [
      "Accuracy: 1.000\n",
      "Loss: 0.288\n"
     ]
    }
   ],
   "source": [
    "loss, acc = model.evaluate(X_test, y_test, verbose=0)\n",
    "print('Accuracy: %.3f'  % acc)\n",
    "print('Loss: %.3f' % loss)"
   ]
  },
  {
   "cell_type": "code",
   "execution_count": 142,
   "metadata": {},
   "outputs": [],
   "source": [
    "model.add(Dense(1000,input_dim=13,activation='relu'))\n",
    "model.add(Dense(500,input_dim=13, activation='relu'))\n",
    "model.add(Dense(2,activation='softmax'))"
   ]
  },
  {
   "cell_type": "code",
   "execution_count": 143,
   "metadata": {},
   "outputs": [],
   "source": [
    "model.compile(loss='categorical_crossentropy',optimizer='adam',metrics=['accuracy'])"
   ]
  },
  {
   "cell_type": "code",
   "execution_count": 155,
   "metadata": {},
   "outputs": [
    {
     "name": "stdout",
     "output_type": "stream",
     "text": [
      "Train on 8000 samples\n",
      "Epoch 1/10\n",
      "8000/8000 [==============================] - 5s 607us/sample - loss: 12.2389 - accuracy: 0.5000\n",
      "Epoch 2/10\n",
      "8000/8000 [==============================] - 4s 514us/sample - loss: 19.9617 - accuracy: 0.5250\n",
      "Epoch 3/10\n",
      "8000/8000 [==============================] - 4s 505us/sample - loss: 36.1224 - accuracy: 0.5000\n",
      "Epoch 4/10\n",
      "8000/8000 [==============================] - 4s 499us/sample - loss: 18.9068 - accuracy: 0.5000\n",
      "Epoch 5/10\n",
      "8000/8000 [==============================] - 4s 501us/sample - loss: 95.5793 - accuracy: 0.5250\n",
      "Epoch 6/10\n",
      "8000/8000 [==============================] - 4s 508us/sample - loss: 76.7313 - accuracy: 0.4750\n",
      "Epoch 7/10\n",
      "8000/8000 [==============================] - 4s 505us/sample - loss: 61.9050 - accuracy: 0.5250\n",
      "Epoch 8/10\n",
      "8000/8000 [==============================] - 4s 501us/sample - loss: 65.5282 - accuracy: 0.4750\n",
      "Epoch 9/10\n",
      "8000/8000 [==============================] - 4s 506us/sample - loss: 71.0133 - accuracy: 0.5000\n",
      "Epoch 10/10\n",
      "8000/8000 [==============================] - 4s 512us/sample - loss: 73.1923 - accuracy: 0.5250\n"
     ]
    },
    {
     "data": {
      "text/plain": [
       "<tensorflow.python.keras.callbacks.History at 0x37996bd048>"
      ]
     },
     "execution_count": 155,
     "metadata": {},
     "output_type": "execute_result"
    }
   ],
   "source": [
    "model.fit(X_train, y_train, epochs=10, batch_size=200, verbose=1) "
   ]
  },
  {
   "cell_type": "code",
   "execution_count": 154,
   "metadata": {},
   "outputs": [
    {
     "name": "stdout",
     "output_type": "stream",
     "text": [
      "Accuracy: 1.000\n",
      "Loss: 19.985\n"
     ]
    }
   ],
   "source": [
    "loss, acc = model.evaluate(X_test, y_test, verbose=0)\n",
    "print('Accuracy: %.3f'  % acc)\n",
    "print('Loss: %.3f' % loss)"
   ]
  },
  {
   "cell_type": "code",
   "execution_count": 157,
   "metadata": {},
   "outputs": [
    {
     "data": {
      "text/plain": [
       "array([0., 1.], dtype=float32)"
      ]
     },
     "execution_count": 157,
     "metadata": {},
     "output_type": "execute_result"
    }
   ],
   "source": [
    "y_predict = model.predict(X_test)\n",
    "y_predict[0]"
   ]
  },
  {
   "cell_type": "code",
   "execution_count": 158,
   "metadata": {},
   "outputs": [
    {
     "data": {
      "text/plain": [
       "1"
      ]
     },
     "execution_count": 158,
     "metadata": {},
     "output_type": "execute_result"
    }
   ],
   "source": [
    "np.argmax(y_predict[0])"
   ]
  },
  {
   "cell_type": "markdown",
   "metadata": {},
   "source": [
    "## CONFUSION MATRIX"
   ]
  },
  {
   "cell_type": "code",
   "execution_count": 165,
   "metadata": {},
   "outputs": [
    {
     "name": "stdout",
     "output_type": "stream",
     "text": [
      "[[   0 1585]\n",
      " [   0  415]]\n"
     ]
    },
    {
     "data": {
      "text/plain": [
       "<matplotlib.axes._subplots.AxesSubplot at 0x3799835e88>"
      ]
     },
     "execution_count": 165,
     "metadata": {},
     "output_type": "execute_result"
    },
    {
     "data": {
      "image/png": "[encoded data removed]",
      "text/plain": [
       "<Figure size 720x360 with 2 Axes>"
      ]
     },
     "metadata": {
      "needs_background": "light"
     },
     "output_type": "display_data"
    }
   ],
   "source": [
    "# mY CONFUSION MATRIX\n",
    "\n",
    "y_pred = []\n",
    "for val in y_predict:\n",
    "    y_pred.append(np.argmax(val))\n",
    "#print(y_pred)    \n",
    "#convert 0 1 to 1 and 1 0 as 0\n",
    "cm = metrics.confusion_matrix(y_test,y_pred)\n",
    "\n",
    "print(cm)\n",
    "plt.figure(figsize=(10,5))\n",
    "sns.heatmap(cm, annot=True)"
   ]
  },
  {
   "cell_type": "code",
   "execution_count": null,
   "metadata": {},
   "outputs": [],
   "source": []
  },
  {
   "cell_type": "code",
   "execution_count": null,
   "metadata": {},
   "outputs": [],
   "source": []
  }
 ],
 "metadata": {
  "kernelspec": {
   "display_name": "Python 3",
   "language": "python",
   "name": "python3"
  },
  "language_info": {
   "codemirror_mode": {
    "name": "ipython",
    "version": 3
   },
   "file_extension": ".py",
   "mimetype": "text/x-python",
   "name": "python",
   "nbconvert_exporter": "python",
   "pygments_lexer": "ipython3",
   "version": "3.7.4"
  }
 },
 "nbformat": 4,
 "nbformat_minor": 2
}
